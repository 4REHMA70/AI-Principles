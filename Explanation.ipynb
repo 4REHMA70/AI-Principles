{
 "cells": [
  {
   "cell_type": "code",
   "execution_count": 1,
   "metadata": {},
   "outputs": [
    {
     "name": "stdout",
     "output_type": "stream",
     "text": [
      "a[0]: [9, 5]\n",
      "a[0][0]: 9\n",
      "grid value at index 0,3 is:  1\n",
      "Grid index is obstacle: True\n",
      "Grid index is obstacle: False\n"
     ]
    }
   ],
   "source": [
    "a= [[9,5],3,2,1]\n",
    "# a is an array, holding [1,1], 1, 1, and 1.\n",
    "print(\"a[0]:\",a[0]) # references first element, [1,1]\n",
    "print(\"a[0][0]:\",a[0][0]) # references element's first element, 1\n",
    "\n",
    "grid = [[0, 0, 0, 1],\n",
    "        [1, 1, 0, 0],\n",
    "        [0, 0, 0, 1],\n",
    "        [0, 1, 0, 0]]\n",
    "# So grid[X] references row, and grid[X][Y] references first col in first row\n",
    "# We can now identify which part of the grid is an obstacle or free space, using ==\n",
    "\n",
    "print(\"grid value at index 0,3 is: \",grid[0][3])\n",
    "print(\"Grid index is obstacle:\",grid[0][3]==1)\n",
    "print(\"Grid index is obstacle:\",grid[0][2]==1) # False because value is 0, free space\n"
   ]
  },
  {
   "cell_type": "markdown",
   "metadata": {},
   "source": [
    "# Explaining the Maze generation algorithm"
   ]
  },
  {
   "cell_type": "markdown",
   "metadata": {},
   "source": [
    "1- set current cell from stack\n",
    "\n",
    "2- get list of unvisited neighboring cells \n",
    "\n",
    "3- choose random neighbor\n",
    "\n",
    "4- carve passage to neighbor \n",
    "\n",
    "5- push neighbor to stack as new current cell\n",
    "\n",
    "\n",
    "if no more neighbors:\n",
    "\n",
    "1- pop current cell from stack\n",
    "\n",
    "2- make this popped cell the new current cell"
   ]
  },
  {
   "cell_type": "code",
   "execution_count": 3,
   "metadata": {},
   "outputs": [],
   "source": [
    "import random\n",
    "from collections import deque\n",
    "import numpy as np"
   ]
  },
  {
   "cell_type": "code",
   "execution_count": 4,
   "metadata": {},
   "outputs": [],
   "source": [
    "class Maze:\n",
    "\n",
    "    def __init__(self, rows, cols, seed=None):\n",
    "        self.rows = rows\n",
    "        self.cols = cols\n",
    "        self.seed = seed\n",
    "        self.matrix = [[1] * cols for _ in range(rows)] # Matrix initialized with 1s, as obstacles. 0s as free spaces later added\n",
    "\n",
    "    def generate_maze(self):\n",
    "        random.seed(self.seed)\n",
    "\n",
    "        stack = [(1, 1)] # Stack to keep track of visited nodes\n",
    "        self.matrix[1][1] = 0 # Initial start\n",
    "        \"\"\"\n",
    "        a= [[1,1],1,1,1]\n",
    "        a is an array, holding [1,1], 1, 1, and 1.\n",
    "        a[0] references first element, [1,1]\n",
    "        a[0][0] references element's first element, 1\n",
    "        \"\"\"\n",
    "\n",
    "        while stack: # While stack is running\n",
    "            current_cell = stack[-1] # Last element from cell. FILO\n",
    "            neighbors = self.get_unvisited_neighbors(current_cell[0], current_cell[1]) # For current cell, x and y coords passed, to get unvisited neighbors\n",
    "\n",
    "            if neighbors: # If neighbors exist\n",
    "                next_cell = random.choice(neighbors) # Randomly choose neighbor as next cell\n",
    "                current_x, current_y = current_cell\n",
    "                next_x, next_y = next_cell\n",
    "\n",
    "                self.matrix[(current_x + next_x) // 2][(current_y + next_y) // 2] = 0 # Midpoint between current and next cell coords, set to free\n",
    "                self.matrix[current_x][current_y] = 0 # Current coords also set free \n",
    "\n",
    "                stack.append(next_cell) # Next cell marked as visited\n",
    "            else:\n",
    "                stack.pop() # Popping last cell when no unvisited neighbors (prev cell is now current)\n",
    "\n",
    "    def get_unvisited_neighbors(self, x, y): \n",
    "        neighbors = [(x + dx, y + dy) for dx, dy in [(2, 0), (-2, 0), (0, 2), (0, -2)]] # For dx dy in list of tuples, add to x and y to get all combinations\n",
    "        neighbors = [(nx, ny) for nx, ny in neighbors if 0 < nx < self.rows - 1 and 0 < ny < self.cols - 1 and self.matrix[nx][ny]] # Neighbor validation check\n",
    "        return [neighbor for neighbor in neighbors if self.matrix[(x + neighbor[0]) // 2][(y + neighbor[1]) // 2]] # Return list of valid neighbors\n"
   ]
  },
  {
   "cell_type": "markdown",
   "metadata": {},
   "source": [
    "OVERALL:\n",
    "GET FIRST CELL AS CURRENT CELL\n",
    "RANDOMLY CHOOSE NEIGHBOR (IF NOT VISITED)\n",
    "CARVE MIDPOINT AS FREE \n",
    "NEIGHBOR NOW CURRENT CELL\n",
    "\n",
    "IF ALL NEIGHBOR CELLS VISITED, BACKTRACK TO PREV CELL AND GO AGAIN\n"
   ]
  },
  {
   "cell_type": "markdown",
   "metadata": {},
   "source": [
    "Printing function to print maze:\n"
   ]
  },
  {
   "cell_type": "code",
   "execution_count": 5,
   "metadata": {},
   "outputs": [
    {
     "name": "stdout",
     "output_type": "stream",
     "text": [
      "INITIAL MAZE:\n",
      "1 1 1 1 1 1 1 1 1 1 1 1 1 1 1\n",
      "1 1 1 1 1 1 1 1 1 1 1 1 1 1 1\n",
      "1 1 1 1 1 1 1 1 1 1 1 1 1 1 1\n",
      "1 1 1 1 1 1 1 1 1 1 1 1 1 1 1\n",
      "1 1 1 1 1 1 1 1 1 1 1 1 1 1 1\n",
      "1 1 1 1 1 1 1 1 1 1 1 1 1 1 1\n",
      "1 1 1 1 1 1 1 1 1 1 1 1 1 1 1\n",
      "1 1 1 1 1 1 1 1 1 1 1 1 1 1 1\n",
      "1 1 1 1 1 1 1 1 1 1 1 1 1 1 1\n",
      "1 1 1 1 1 1 1 1 1 1 1 1 1 1 1\n",
      "1 1 1 1 1 1 1 1 1 1 1 1 1 1 1\n",
      "1 1 1 1 1 1 1 1 1 1 1 1 1 1 1\n",
      "__________________________________\n",
      "NEW MAZE:\n",
      "1 1 1 1 1 1 1 1 1 1 1 1 1 1 1\n",
      "1 0 0 1 0 0 0 0 0 1 0 0 0 0 1\n",
      "1 0 1 0 1 0 1 0 1 0 1 1 1 0 1\n",
      "1 0 0 0 0 0 1 0 0 0 0 0 1 0 1\n",
      "1 1 1 1 1 1 1 0 1 1 1 0 1 0 1\n",
      "1 0 0 0 0 0 0 1 0 0 0 0 1 0 1\n",
      "1 0 1 0 1 1 1 0 1 0 1 0 1 0 1\n",
      "1 0 1 0 0 0 0 0 1 0 0 1 0 0 1\n",
      "1 0 1 1 1 0 1 0 1 0 1 0 1 0 1\n",
      "1 0 0 0 0 1 0 0 0 0 0 0 0 0 1\n",
      "1 1 1 1 1 1 1 1 1 1 1 1 1 1 1\n",
      "1 1 1 1 1 1 1 1 1 1 1 1 1 1 1\n"
     ]
    }
   ],
   "source": [
    "def print_maze(maze):\n",
    "    for row in maze:\n",
    "        print(' '.join(map(str, row))) # Printing each row in matrix\n",
    "\n",
    "\n",
    "\n",
    "maze= Maze(rows=12,cols=15,seed=21)\n",
    "\n",
    "print('INITIAL MAZE:')\n",
    "print_maze(np.array(maze.matrix))\n",
    "\n",
    "print('__________________________________')\n",
    "\n",
    "maze.generate_maze()\n",
    "\n",
    "print('NEW MAZE:')\n",
    "print_maze(np.array(maze.matrix))\n"
   ]
  },
  {
   "cell_type": "markdown",
   "metadata": {},
   "source": [
    "# Explaining the BFS algorithm "
   ]
  },
  {
   "cell_type": "code",
   "execution_count": 6,
   "metadata": {},
   "outputs": [
    {
     "name": "stdout",
     "output_type": "stream",
     "text": [
      "Visiting node (0, 0)\n",
      "Visiting node (0, 1)\n",
      "Visiting node (0, 2)\n",
      "Visiting node (1, 2)\n",
      "Visiting node (0, 3)\n",
      "Visiting node (2, 2)\n",
      "Visiting node (1, 3)\n",
      "Visiting node (3, 2)\n",
      "Visiting node (2, 1)\n",
      "Visiting node (3, 3)\n"
     ]
    },
    {
     "data": {
      "text/plain": [
       "6"
      ]
     },
     "execution_count": 6,
     "metadata": {},
     "output_type": "execute_result"
    }
   ],
   "source": [
    "grid = [[0, 0, 0, 0],\n",
    "        [1, 1, 0, 0],\n",
    "        [0, 0, 0, 1],\n",
    "        [0, 1, 0, 0]]\n",
    "\n",
    "#BFS FUNCTION: TAKES IN GRID, START COORD, GOAL COORD\n",
    "def bfs(grid, start, goal):\n",
    "    ROWS, COLS = len(grid), len(grid[0])\n",
    "    #VISITED NODES SET\n",
    "    visited = set([start])\n",
    "    #POTENTIAL NODES QUEUE\n",
    "    queue = deque([start])\n",
    "\n",
    "    length = 0\n",
    "\n",
    "    #WHILE QUEUE NOT EMPTY\n",
    "    while queue:\n",
    "        for _ in range(len(queue)):\n",
    "            #FIRST IN, FIRST OUT. FIRST ADDED TO QUEUE IS POPPED (BECAUSE QUEUES START LEFT TO RIGHT)\n",
    "            r, c = queue.popleft() # [(1,2),(3,4)]\n",
    "            \"\"\"\n",
    "            ! ! ! !\n",
    "            \"\"\"\n",
    "            print(f\"Visiting node ({r}, {c})\")\n",
    "\n",
    "            #IF GOAL, RETURN LENGTH\n",
    "            if (r, c) == goal:\n",
    "                return length\n",
    "\n",
    "            #NEIGHBORS AT RIGHT LEFT UP DOWN\n",
    "            neighbors = (r+1, c), (r-1, c), (r, c+1), (r, c-1)\n",
    "            for row, col in neighbors:\n",
    "                #IF ROW AND COL OF NEIGHBOR VALID AND NOT IN VISITED, AND IT'S 0 IN GRID\n",
    "                if (0 <= row < ROWS and 0 <= col < COLS and (row, col) not in visited and grid[row][col] == 0):\n",
    "                    queue.append((row, col))\n",
    "                    visited.add((row, col))\n",
    "        \n",
    "        #INCREASE LENGTH (proceed)\n",
    "        length += 1\n",
    "\n",
    "        \n",
    "bfs(grid, (0,0), (3,3))"
   ]
  },
  {
   "cell_type": "code",
   "execution_count": 7,
   "metadata": {},
   "outputs": [
    {
     "name": "stdout",
     "output_type": "stream",
     "text": [
      "((0, 1), [])\n"
     ]
    }
   ],
   "source": [
    "from collections import deque\n",
    "directions = [(-1, 0), (1, 0), (0, -1), (0, 1)]\n",
    "\n",
    "queue = deque([((0,1), [])])\n",
    "paths_explored = []\n",
    "visited = set()\n",
    "\n",
    "while queue:\n",
    "    current = queue.popleft()\n",
    "    print(current)"
   ]
  },
  {
   "cell_type": "code",
   "execution_count": 1,
   "metadata": {},
   "outputs": [
    {
     "name": "stdout",
     "output_type": "stream",
     "text": [
      "[0, 1, 2, 3]\n"
     ]
    }
   ],
   "source": [
    "b=[0,1,2]\n",
    "b+=[3]\n",
    "print(b)"
   ]
  },
  {
   "cell_type": "code",
   "execution_count": 2,
   "metadata": {},
   "outputs": [
    {
     "name": "stdout",
     "output_type": "stream",
     "text": [
      "3\n"
     ]
    }
   ],
   "source": [
    "import random\n",
    "random.seed(1)\n",
    "a=random.randint(1,10)\n",
    "print(a)\n"
   ]
  },
  {
   "cell_type": "code",
   "execution_count": null,
   "metadata": {},
   "outputs": [],
   "source": []
  }
 ],
 "metadata": {
  "kernelspec": {
   "display_name": "Python 3",
   "language": "python",
   "name": "python3"
  },
  "language_info": {
   "codemirror_mode": {
    "name": "ipython",
    "version": 3
   },
   "file_extension": ".py",
   "mimetype": "text/x-python",
   "name": "python",
   "nbconvert_exporter": "python",
   "pygments_lexer": "ipython3",
   "version": "3.10.11"
  }
 },
 "nbformat": 4,
 "nbformat_minor": 2
}

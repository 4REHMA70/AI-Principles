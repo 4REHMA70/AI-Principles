{
 "cells": [
  {
   "cell_type": "markdown",
   "metadata": {},
   "source": [
    "\n",
    "# Iterations: 100        \n",
    "Average Execution Time: 0.001598355770111084 seconds\n",
    "\n",
    "Average Peak Memory: 0.0288818359375 MB\n",
    "\n",
    "Average Execution Time: 0.0038525700569152833 seconds\n",
    "\n",
    "Average Peak Memory: 0.10086318969726563 MB\n",
    "\n",
    "# Iterations: 1,000\n",
    "Average Execution Time: 0.0020528242588043213 seconds\n",
    "\n",
    "Average Peak Memory: 0.03667719268798828 MB\n",
    "\n",
    "Average Execution Time: 0.006160878658294678 seconds\n",
    "\n",
    "Average Peak Memory: 0.17426569366455077 MB\n",
    "\n",
    "# Iterations: 10,000\n",
    "Average Execution Time: 0.0007655791521072388 seconds\n",
    "\n",
    "Average Peak Memory: 0.019989265537261963 MB\n",
    "\n",
    "Average Execution Time: 0.005421704435348511 seconds\n",
    "\n",
    "Average Peak Memory: 0.13456009302139282 MB\n"
   ]
  },
  {
   "cell_type": "code",
   "execution_count": 2,
   "metadata": {},
   "outputs": [],
   "source": [
    "import numpy as np\n",
    "# EXECUTION TIMES AND MEMORY FOR BFS SEARCH ACROSS 100, 1000, AND 10,000 INSTANCES:\n",
    "execution_times = [0.001598, 0.003852, 0.002052, 0.006160, 0.000765, 0.005421]\n",
    "peak_memory = [0.028881, 0.100863, 0.036677, 0.174265, 0.019989, 0.134560]"
   ]
  },
  {
   "cell_type": "code",
   "execution_count": 3,
   "metadata": {},
   "outputs": [
    {
     "name": "stdout",
     "output_type": "stream",
     "text": [
      "0.003308 0.08253916666666666\n"
     ]
    }
   ],
   "source": [
    "# Calculate mean\n",
    "mean_execution_time = np.mean(execution_times)\n",
    "mean_peak_memory = np.mean(peak_memory)\n",
    "\n",
    "print(mean_execution_time, mean_peak_memory)"
   ]
  },
  {
   "cell_type": "code",
   "execution_count": 4,
   "metadata": {},
   "outputs": [
    {
     "name": "stdout",
     "output_type": "stream",
     "text": [
      "0.001994287424954922 0.05823890309296889\n"
     ]
    }
   ],
   "source": [
    "# Calculate standard deviation\n",
    "std_execution_time = np.std(execution_times)\n",
    "std_peak_memory = np.std(peak_memory)\n",
    "\n",
    "print(std_execution_time, std_peak_memory)"
   ]
  },
  {
   "cell_type": "code",
   "execution_count": 5,
   "metadata": {},
   "outputs": [
    {
     "name": "stdout",
     "output_type": "stream",
     "text": [
      "60.286802447246735 70.55911204939339\n"
     ]
    }
   ],
   "source": [
    "# Calculate coefficient of variation\n",
    "cv_execution_time = (std_execution_time / mean_execution_time) * 100\n",
    "cv_peak_memory = (std_peak_memory / mean_peak_memory) * 100\n",
    "\n",
    "print(cv_execution_time, cv_peak_memory)\n"
   ]
  },
  {
   "cell_type": "code",
   "execution_count": 6,
   "metadata": {},
   "outputs": [
    {
     "name": "stdout",
     "output_type": "stream",
     "text": [
      "(0.001015368880032725, 0.005600631119967276) (0.015587773425686402, 0.14949055990764692)\n"
     ]
    }
   ],
   "source": [
    "from scipy.stats import sem, t\n",
    "\n",
    "# Calculate confidence intervals (95% confidence)\n",
    "confidence_interval_execution_time = t.interval(0.95, len(execution_times)-1, loc=mean_execution_time, scale=sem(execution_times))\n",
    "confidence_interval_peak_memory = t.interval(0.95, len(peak_memory)-1, loc=mean_peak_memory, scale=sem(peak_memory))\n",
    "\n",
    "print(confidence_interval_execution_time, confidence_interval_peak_memory)"
   ]
  },
  {
   "cell_type": "code",
   "execution_count": 28,
   "metadata": {},
   "outputs": [
    {
     "name": "stdout",
     "output_type": "stream",
     "text": [
      "Mean time falls in CI range:  True\n",
      "Mean peak memory falls in CI range:  True\n"
     ]
    }
   ],
   "source": [
    "print(\"Mean time falls in CI range: \",confidence_interval_execution_time[0] <= mean_execution_time <= confidence_interval_execution_time[1])\n",
    "print(\"Mean peak memory falls in CI range: \",confidence_interval_peak_memory[0] <= mean_peak_memory <= confidence_interval_peak_memory[1])"
   ]
  },
  {
   "cell_type": "markdown",
   "metadata": {},
   "source": [
    "# Evaluation\n",
    "\n",
    "Null Hypothesis: Our sample mean values of time and peak memory are representative of the population values \n",
    "\n",
    "\n",
    "For execution time, the mean is 0.003308 seconds with a standard deviation of 0.001994, indicating some variability. The coefficient of variation (CV) is relatively high at 60.29%, suggesting a notable level of variability relative to the mean. The 95% confidence interval (0.001015 to 0.005601) gives a range within which we can be reasonably confident that the true mean execution time lies.\n",
    "\n",
    "For peak memory, the mean is 0.0825 MB with a standard deviation of 0.0582. The coefficient of variation (CV) is 70.56%, indicating a higher level of variability relative to the mean. The 95% confidence interval (0.01559 to 0.1495) provides a range within which the true mean peak memory usage is likely to fall.\n",
    "\n",
    "As the mean falls in the confidence interval range for both cases, we can affirm that our readings are accurate\n"
   ]
  },
  {
   "cell_type": "code",
   "execution_count": null,
   "metadata": {},
   "outputs": [],
   "source": []
  },
  {
   "cell_type": "markdown",
   "metadata": {},
   "source": [
    "neighbor    step 6 (10,000):\n",
    "    Average Execution Time: 0.016422288632392885 seconds\n",
    "    Average Peak Memory: 0.03628208589553833 MB\n",
    "        \n",
    "neighbor step 1 (10,000):\n",
    "    Average Execution Time: 0.014009305453300477 seconds\n",
    "    Average Peak Memory: 0.124567760181427 MB"
   ]
  },
  {
   "cell_type": "markdown",
   "metadata": {},
   "source": []
  }
 ],
 "metadata": {
  "kernelspec": {
   "display_name": "Python 3",
   "language": "python",
   "name": "python3"
  },
  "language_info": {
   "codemirror_mode": {
    "name": "ipython",
    "version": 3
   },
   "file_extension": ".py",
   "mimetype": "text/x-python",
   "name": "python",
   "nbconvert_exporter": "python",
   "pygments_lexer": "ipython3",
   "version": "3.10.11"
  }
 },
 "nbformat": 4,
 "nbformat_minor": 2
}
